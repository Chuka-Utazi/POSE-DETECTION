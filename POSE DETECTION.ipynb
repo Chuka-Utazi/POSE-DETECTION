{
 "cells": [
  {
   "cell_type": "code",
   "execution_count": null,
   "id": "19ee6d78",
   "metadata": {},
   "outputs": [],
   "source": [
    "#Step 1\n",
    "import mediapipe as mp \n",
    "import cv2 "
   ]
  },
  {
   "cell_type": "code",
   "execution_count": null,
   "id": "83fc2707",
   "metadata": {},
   "outputs": [],
   "source": [
    "#Step 2 \n",
    "cap = cv2.VideoCapture(1)"
   ]
  },
  {
   "cell_type": "code",
   "execution_count": null,
   "id": "c2577ed3",
   "metadata": {},
   "outputs": [],
   "source": [
    "# Leveraging the Mediapipe library used for Pose detection\n",
    "\n",
    "mpPose = mp.solutions.pose\n",
    "pose = mpPose.Pose()\n",
    "# pose = mpPose.Pose(static_image mode = False, upper_body_only = False, smooth_Landmarksx=True, min_detection_confidence=0.5, min_tracking_confidence=0.5)\n",
    "\n",
    "#To draw and connect the Landmarks\n",
    "mpDraw = mp.solutions.drawing_utils"
   ]
  },
  {
   "cell_type": "code",
   "execution_count": null,
   "id": "c20c396e",
   "metadata": {},
   "outputs": [],
   "source": [
    "#Switch on the Webcam\n",
    "\n",
    "while True: \n",
    "    _, img = cap.read()\n",
    "    \n",
    "    \n",
    "    #Convert Image/Video from BGR to RGB\n",
    "    imgRGB = cv2.cvtColor(img, cv2.COLOR_BGR2RGB)\n",
    "    \n",
    "    # Apply the mediapipe pose detection modute for detection\n",
    "    results = pose.process(imgRGB)\n",
    "    print(results.pose_landmarks)\n",
    "    \n",
    "    \n",
    "    if results.pose_landmarks:\n",
    "        mpDraw.draw_landmarks(img, results.pose_landmarks, mpPose.POSE_CONNECTIONS)\n",
    "    \n",
    "    \n",
    "    cv2.putText(img, \"POSE DETECTION\", (10, 50), cv2.FONT_HERSHEY_PLAIN, 2, (255, 255, 255), 2)\n",
    "    \n",
    "    \n",
    "    cv2.imshow(\"Pose Detection\", img)\n",
    "    if cv2.waitKey(1) & 0xff == ord('q'): \n",
    "        break\n",
    "\n",
    "#Release the capture once all the processing is done.\n",
    "cap.release()\n",
    "cv2.destroyAllWindows() "
   ]
  },
  {
   "cell_type": "code",
   "execution_count": null,
   "id": "f8bf3be3",
   "metadata": {},
   "outputs": [],
   "source": []
  }
 ],
 "metadata": {
  "kernelspec": {
   "display_name": "Python 3 (ipykernel)",
   "language": "python",
   "name": "python3"
  },
  "language_info": {
   "codemirror_mode": {
    "name": "ipython",
    "version": 3
   },
   "file_extension": ".py",
   "mimetype": "text/x-python",
   "name": "python",
   "nbconvert_exporter": "python",
   "pygments_lexer": "ipython3",
   "version": "3.9.13"
  }
 },
 "nbformat": 4,
 "nbformat_minor": 5
}
